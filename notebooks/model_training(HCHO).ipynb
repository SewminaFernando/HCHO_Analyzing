{
 "cells": [
  {
   "cell_type": "code",
   "execution_count": 1,
   "metadata": {},
   "outputs": [],
   "source": [
    "import pyspark.sql as pyspark_sql\n",
    "import matplotlib.pyplot as plt\n",
    "import pandas as pd\n",
    "from statsmodels.tsa.stattools import adfuller\n",
    "from pyspark.sql.types import StructType, StructField, StringType, DoubleType, BooleanType"
   ]
  },
  {
   "cell_type": "code",
   "execution_count": 2,
   "metadata": {},
   "outputs": [],
   "source": [
    "import os\n",
    "import sys\n",
    "\n",
    "os.environ['PYSPARK_PYTHON'] = sys.executable\n",
    "os.environ['PYSPARK_DRIVER_PYTHON'] = sys.executable"
   ]
  },
  {
   "cell_type": "code",
   "execution_count": 3,
   "metadata": {},
   "outputs": [],
   "source": [
    "# SparkSession creation\n",
    "spark = pyspark_sql.SparkSession.builder.appName(\"Model_Training\").getOrCreate()"
   ]
  },
  {
   "cell_type": "code",
   "execution_count": 4,
   "metadata": {},
   "outputs": [],
   "source": [
    "map = {\"Kandy Proper\": \"kandy_proper.csv\",\n",
    "        \"Colombo Proper\": \"colombo_proper.csv\",\n",
    "        \"Deniyaya, Matara\": \"deniyaya_matara.csv\",\n",
    "        \"Nuwara Eliya Proper\": \"nuwaraeliya_proper.csv\",\n",
    "        \"Kurunegala Proper\": \"kurunegala_proper.csv\",\n",
    "        \"Bibile, Monaragala\": \"bibile_monaragala.csv\",\n",
    "        \"Jaffna Proper\": \"jaffna_proper.csv\"}"
   ]
  },
  {
   "cell_type": "code",
   "execution_count": 5,
   "metadata": {},
   "outputs": [],
   "source": [
    "def get_dataframe(location):\n",
    "    global map\n",
    "    \n",
    "    df = spark.read.csv(r\"../data/processed/\" + map[location], header=True, inferSchema=True)\\\n",
    "        .select(\"current_date\", \"hcho_reading\")\n",
    "    \n",
    "    df_pandas = df.toPandas()\n",
    "    \n",
    "    # Convert the current_date column to datetime\n",
    "    df_pandas[\"current_date\"] = pd.to_datetime(df_pandas[\"current_date\"])\n",
    "\n",
    "    # Set date as the index\n",
    "    df_pandas.set_index(\"current_date\", inplace=True, drop=True)\n",
    "\n",
    "    return df, df_pandas"
   ]
  },
  {
   "cell_type": "markdown",
   "metadata": {},
   "source": [
    "## Checking for Stationarity (ADF Test)"
   ]
  },
  {
   "cell_type": "code",
   "execution_count": 6,
   "metadata": {},
   "outputs": [],
   "source": [
    "# check stationarity for each location using the Augmented Dickey-Fuller test\n",
    "def check_stationarity(df):\n",
    "    data = df.select(\"hcho_reading\").rdd.flatMap(lambda x: x).collect()\n",
    "    result = adfuller(data)\n",
    "\n",
    "    return (result[0], result[1], result[1]<=0.05)\n"
   ]
  },
  {
   "cell_type": "code",
   "execution_count": 7,
   "metadata": {},
   "outputs": [],
   "source": [
    "schema = StructType([\n",
    "    StructField(\"Location\", StringType(), True),\n",
    "    StructField(\"ADF Statistic\", DoubleType(), True),\n",
    "    StructField(\"p-value\", DoubleType(), True),\n",
    "    StructField(\"Stationary\", BooleanType(), True)\n",
    "])\n",
    "\n",
    "stationarity_results = spark.createDataFrame([], schema)"
   ]
  },
  {
   "cell_type": "code",
   "execution_count": 8,
   "metadata": {},
   "outputs": [
    {
     "name": "stdout",
     "output_type": "stream",
     "text": [
      "+-------------------+-------------------+----------------------+----------+\n",
      "|Location           |ADF Statistic      |p-value               |Stationary|\n",
      "+-------------------+-------------------+----------------------+----------+\n",
      "|Kandy Proper       |-15.538050510258087|2.177265418618071E-28 |true      |\n",
      "|Colombo Proper     |-4.151523717889624 |7.950844999938813E-4  |true      |\n",
      "|Deniyaya, Matara   |-17.603554820494328|3.9106918872215016E-30|true      |\n",
      "|Nuwara Eliya Proper|-18.03552768185273 |2.6678826366100292E-30|true      |\n",
      "|Kurunegala Proper  |-8.01730519039967  |2.1218755389068202E-12|true      |\n",
      "|Bibile, Monaragala |-6.137559727998532 |8.117549701904656E-8  |true      |\n",
      "|Jaffna Proper      |-12.284818459878359|8.070475658305322E-23 |true      |\n",
      "+-------------------+-------------------+----------------------+----------+\n",
      "\n"
     ]
    }
   ],
   "source": [
    "# Define the schema for the DataFrame\n",
    "schema = StructType([\n",
    "    StructField(\"Location\", StringType(), True),\n",
    "    StructField(\"ADF Statistic\", StringType(), True),\n",
    "    StructField(\"p-value\", StringType(), True),\n",
    "    StructField(\"Stationary\", StringType(), True)\n",
    "])\n",
    "\n",
    "for location in map.keys():\n",
    "    df = get_dataframe(location)[0]\n",
    "    adf_stat, p_value, stationary = check_stationarity(df)\n",
    "    \n",
    "    # Create a DataFrame with the schema defined above\n",
    "    new_row = spark.createDataFrame([(location, str(adf_stat), str(p_value), str(stationary))], schema)\n",
    "\n",
    "    # cast the p-value, ADF Statistic to double and Stationary to boolean\n",
    "    new_row = new_row.withColumn(\"ADF Statistic\", new_row[\"ADF Statistic\"].cast(DoubleType()))\n",
    "    new_row = new_row.withColumn(\"p-value\", new_row[\"p-value\"].cast(DoubleType()))\n",
    "    new_row = new_row.withColumn(\"Stationary\", new_row[\"Stationary\"].cast(BooleanType()))\n",
    "    \n",
    "    # Add the new row to the DataFrame\n",
    "    stationarity_results = stationarity_results.union(new_row)\n",
    "                                                                     \n",
    "# Show the results\n",
    "stationarity_results.show(truncate=False)"
   ]
  },
  {
   "cell_type": "markdown",
   "metadata": {},
   "source": [
    "As we can see all the data for all 7 locations are stationary"
   ]
  },
  {
   "cell_type": "markdown",
   "metadata": {},
   "source": [
    "## Model Training"
   ]
  },
  {
   "cell_type": "code",
   "execution_count": null,
   "metadata": {},
   "outputs": [],
   "source": []
  }
 ],
 "metadata": {
  "kernelspec": {
   "display_name": ".venv",
   "language": "python",
   "name": "python3"
  },
  "language_info": {
   "codemirror_mode": {
    "name": "ipython",
    "version": 3
   },
   "file_extension": ".py",
   "mimetype": "text/x-python",
   "name": "python",
   "nbconvert_exporter": "python",
   "pygments_lexer": "ipython3",
   "version": "3.10.2"
  }
 },
 "nbformat": 4,
 "nbformat_minor": 2
}
